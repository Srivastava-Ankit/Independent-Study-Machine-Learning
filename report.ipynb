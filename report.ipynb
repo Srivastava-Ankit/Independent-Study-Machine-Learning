{
 "cells": [
  {
   "cell_type": "markdown",
   "metadata": {},
   "source": [
    "This is Ankit. As part of my indepedent study in my master, I have made this report to get coordinates of points where the tapped has been occured. I have used MutliOutputRegressor to predict the X and Y cooradinates of points where tapped has been occured. In given datasets, Xa.npy has the singals data recorded by sensors when tapped has been occured. Ya.npy has the coordinates of points where tapped has been occured to record the singals for Xa.npy."
   ]
  },
  {
   "cell_type": "code",
   "execution_count": 2,
   "metadata": {},
   "outputs": [
    {
     "name": "stdout",
     "output_type": "stream",
     "text": [
      "MSE = 1.2872698388896013\n"
     ]
    }
   ],
   "source": [
    "from sklearn import linear_model\n",
    "\n",
    "import numpy as np\n",
    "from sklearn.ensemble import RandomForestRegressor\n",
    "from sklearn.model_selection import train_test_split\n",
    "from sklearn.neural_network import MLPClassifier\n",
    "from sklearn.multioutput import MultiOutputRegressor\n",
    "import math\n",
    "import matplotlib.pyplot as plt\n",
    "import matplotlib\n",
    "\n",
    "\n",
    "\n",
    "def Model():\n",
    "    #clf = linear_model.LinearRegression(normalize= True, n_jobs =1000)\n",
    "    #clf = MLPClassifier(max_iter=2000)\n",
    "    clf = MultiOutputRegressor(estimator=RandomForestRegressor(max_depth=1000,random_state=1), n_jobs = 100)\n",
    "    return clf\n",
    "\n",
    "def featureVector(data_X, data_Y):\n",
    "    dataset_x = np.zeros((len(data_X),16))\n",
    "    for index in range(len(data_X)):\n",
    "        data = data_X[index]\n",
    "        mean = np.mean(data, axis=0)\n",
    "        std = np.std(data, axis=0)\n",
    "        dataset_x[index] = np.concatenate((std,mean), axis=0)\n",
    "\n",
    "    dataset_y = data_Y\n",
    "    return dataset_x, dataset_y\n",
    "\n",
    "def MSE(recorded_y, actual_y):\n",
    "    sum = 0.0\n",
    "    for index in range(len(recorded_y)):\n",
    "        sum = sum + math.sqrt((recorded_y[index][0] - actual_y[index][0])**2+(recorded_y[index][1] - actual_y[index][1])**2)\n",
    "\n",
    "    return sum/len(recorded_y)\n",
    "\n",
    "def distance (recorded_y, actual_y):\n",
    "    distances = []\n",
    "    for index in range(len(recorded_y)):\n",
    "        dis = math.sqrt((recorded_y[index][0] - actual_y[index][0])**2+(recorded_y[index][1] - actual_y[index][1])**2)\n",
    "        distances.append(dis)\n",
    "    return distances\n",
    "\n",
    "if __name__ == '__main__':\n",
    "    data_X = np.load('Xa.npy')\n",
    "    data_Y = np.load('Ya.npy')\n",
    "\n",
    "\n",
    "    dataset_X, dataset_Y = featureVector(data_X, data_Y)\n",
    "    data_train_x, data_test_x, data_train_y, data_test_y = train_test_split(dataset_X, dataset_Y, test_size=0.2,random_state=1)\n",
    "\n",
    "\n",
    "    model = Model()\n",
    "    model.fit(data_train_x, data_train_y)\n",
    "    recorded_y = model.predict(data_test_x)\n",
    "\n",
    "    print(\"MSE =\", MSE(recorded_y, data_test_y))"
   ]
  },
  {
   "cell_type": "code",
   "execution_count": 3,
   "metadata": {},
   "outputs": [
    {
     "name": "stdout",
     "output_type": "stream",
     "text": [
      "Error distance:  [0.0, 0.0, 0.0, 0.6500000000000004, 0.0, 4.802343178074636, 0.0, 0.0, 0.0, 3.0, 0.5, 2.5, 7.106335201775948, 0.0, 0.0, 0.5, 0.0, 1.25, 0.09999999999999964, 1.1926860441876563, 1.0, 0.0, 0.5, 0.75, 0.0, 0.5, 0.0, 2.0, 0.0, 0.0, 1.0, 0.5, 1.5, 0.5, 1.5, 0.0, 1.0, 0.5, 0.5, 0.0, 4.589389937671455, 1.5, 1.3000000000000007, 2.0, 1.5, 0.0, 0.0, 0.0, 0.0, 0.75, 6.5431261641512, 0.0, 0.0, 0.5, 3.0, 1.0, 2.583118270617898, 4.0, 1.2999999999999998, 1.0, 0.0, 2.5, 1.5, 0.5, 4.16082924427331, 2.5, 0.0, 4.0697051490249265, 0.0, 0.75, 0.0, 1.0, 0.0, 2.25, 0.0, 0.0, 0.5, 0.0, 0.0, 2.0, 10.062305898749054, 1.0, 6.5, 0.75, 0.5, 0.0, 1.2999999999999998, 0.0, 2.0, 0.0, 0.6500000000000004, 0.0, 9.100137361600648, 0.0, 0.5, 1.5, 0.0, 0.0, 2.102974084481309, 2.5, 0.75, 0.5, 2.5, 0.6500000000000004, 0.65, 0.0, 1.95, 3.75, 4.242640687119285, 0.0, 0.0, 2.0, 0.0, 0.0, 2.462214450449026, 4.562071897723665, 1.5, 0.5, 0.0, 4.422951503238533, 3.559845502265513, 0.0, 3.5, 0.0, 2.1213203435596424, 0.0, 0.0, 0.0, 0.0, 0.5, 0.5, 1.0, 8.5, 1.25, 0.5, 0.5, 0.0, 0.5, 0.75, 1.2999999999999998, 2.0, 9.093404203047394, 0.0, 0.5, 1.8027756377319946, 0.0, 4.6097722286464435, 0.0, 0.0, 0.0, 0.5, 4.5, 0.0, 3.269556544854363, 3.559845502265513, 0.0, 2.0, 0.5, 0.0, 0.5, 1.5, 0.0, 0.0, 0.0, 0.5, 7.504165509901817, 0.0, 2.0, 0.0, 0.0, 1.1926860441876566, 3.9000000000000004, 2.0, 0.5, 0.0, 0.0, 4.052468383590426, 0.0, 7.25, 0.0, 1.5, 0.0, 0.0, 0.0, 0.5, 0.0, 0.0, 0.0, 1.0, 0.5, 3.75, 15.008331019803634, 0.5, 1.5, 0.5, 0.0, 0.5, 0.75, 0.0, 0.09999999999999964, 0.5, 0.0, 3.25, 1.5, 1.0, 0.0, 0.9013878188659973, 0.0, 2.0, 1.5, 0.0, 1.5, 2.0, 0.0, 3.0, 0.0, 0.5, 0.0, 0.5, 1.5, 0.0, 6.914658342969665, 0.0, 0.0, 0.0, 0.0, 0.0, 3.0, 0.5, 0.8200609733428366, 0.0, 0.0, 0.0, 0.75, 1.5, 0.0, 0.0, 0.0, 1.5, 1.5, 1.6770509831248424, 4.5, 0.5, 0.0, 2.0, 1.5, 1.5, 0.5, 10.0, 0.0, 0.0, 0.0, 2.0, 0.5, 0.0, 0.0, 2.0, 0.0, 0.0, 2.5]\n"
     ]
    }
   ],
   "source": [
    "errors = distance(recorded_y, data_test_y)\n",
    "print(\"Error distance: \",errors)"
   ]
  },
  {
   "cell_type": "code",
   "execution_count": 4,
   "metadata": {},
   "outputs": [
    {
     "data": {
      "image/png": "[encoded data removed]",
      "text/plain": [
       "<matplotlib.figure.Figure at 0x25a9b791518>"
      ]
     },
     "metadata": {},
     "output_type": "display_data"
    }
   ],
   "source": [
    "cluster_point = {}\n",
    "for recorded_point, actual_point in zip(recorded_y, data_test_y):\n",
    "    if str(actual_point) in cluster_point.keys():\n",
    "        list = cluster_point.get(str(actual_point))\n",
    "        list.append(recorded_point)\n",
    "        cluster_point[str(actual_point)] = list\n",
    "    else:\n",
    "        list = [recorded_point]\n",
    "        cluster_point[str(actual_point)] = list\n",
    "\n",
    "\n",
    "actual_point_list = []\n",
    "cluster_point_list = []\n",
    "for key, value in cluster_point.items():\n",
    "    actual_point_list.append(key)\n",
    "    cluster_point_list.append(value)\n",
    "\n",
    "colorsss = [\"red\", \"green\", \"blue\", \"black\", \"yellow\", \"orange\", \"lightpink\", \"magenta\", \"violet\", \"gray\", \"pink\", \"purple\", \"snow\", \"teal\", \"darkgray\",\n",
    "                \"silver\", \"orchid\", \"darkslategray\", \"deeppink\", \"lime\", \"seashell\", \"hotpink\", \"khaki\", \"lawngreen\", \"skyblue\", \"maroon\"]\n",
    "markers = ['1','2','3','4','5','6','7','8','9','10','11','12','13','14','15','16','17','18','19','20','21','22','23','24','25','26','27']\n",
    "\n",
    "x = [35.5, 6.5, 13.0, 6.5, 0.0, 28.0, 0.0, 28.0, 35.5, 35.5, 6.5, 13.0, 20.5, 20.5, 13.0, 28.0, 20.5, 0.0, 28.5, 6.5, 13.0, 35.5, 13.0, 20.5, 28.0, 0.0]\n",
    "y = [5.0, 15.0, 15.0, 0.0, 10.0, 20.0, 5.0, 0.0, 10.0, 15.0, 10.0, 5.0, 0.0, 5.0, 0.0, 10.0, 20.0, 15.0, 5.0, 5.0, 10.0, 20.0, 20.0, 15.0, 15.0, 0.0]\n",
    "for index, (key, value) in enumerate(cluster_point.items()):\n",
    "    X = [x[0]  for x in value]\n",
    "    Y = [y[1]  for y in value]\n",
    "    plt.scatter(X,Y,alpha=1, color=colorsss[index])\n",
    "    plt.annotate(markers[index],(x[index],y[index]))\n",
    "plt.show()"
   ]
  },
  {
   "cell_type": "code",
   "execution_count": null,
   "metadata": {},
   "outputs": [],
   "source": []
  }
 ],
 "metadata": {
  "kernelspec": {
   "display_name": "Python 3",
   "language": "python",
   "name": "python3"
  },
  "language_info": {
   "codemirror_mode": {
    "name": "ipython",
    "version": 3
   },
   "file_extension": ".py",
   "mimetype": "text/x-python",
   "name": "python",
   "nbconvert_exporter": "python",
   "pygments_lexer": "ipython3",
   "version": "3.6.4"
  }
 },
 "nbformat": 4,
 "nbformat_minor": 2
}
